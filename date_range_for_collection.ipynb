{
 "cells": [
  {
   "cell_type": "markdown",
   "id": "04ad5d18",
   "metadata": {},
   "source": [
    "# How Did Perceived Danger of COVID-19 Effect the Issuance of Building Permits in Mecklenburg, NC?\n",
    "\n",
    "This file analyzes the change in building permits issued in Mecklenburg, NC and if there is a relation to masking policies in the county. It utilizes data from the [CDC](https://data.cdc.gov/Policy-Surveillance/U-S-State-and-Territorial-Public-Mask-Mandates-Fro/62d6-pm5i) for masking mandates by county, and [Mecklenburg County Open Data](https://meck-ent-power-bi-reports-public-web.azurewebsites.net/Viewer?groupId=2ca2c01c-5658-4ee2-8a4f-5bdda8be94b7&reportId=6a4603a2-d1d1-47b7-9898-3575ed3758c6) for building permits issued by the county. These datasets can be found in the data folder of this repository."
   ]
  },
  {
   "cell_type": "code",
   "execution_count": 1,
   "id": "0cde7fd9",
   "metadata": {},
   "outputs": [],
   "source": [
    "# The 'requests' module is not a standard Python module. You will need to install this with pip/pip3 if you do not already have it\n",
    "import numpy as np\n",
    "import matplotlib.pyplot as plt\n",
    "import pandas as pd\n",
    "import datetime"
   ]
  },
  {
   "cell_type": "markdown",
   "id": "2a3685fa",
   "metadata": {},
   "source": [
    "## What needs to be standardized and cleaned?\n",
    "Before the analysis can start, the data needs to be loaded and cleaned. The data is also going to be filtered for Mecklenburg, NC as that is the county of interest. The CDC datafile is too large to be uploaded into the git repository, so the below cell is the code used to limit the data to Mecklenburg, NC which is in the git repository and used for the remaining analysis."
   ]
  },
  {
   "cell_type": "code",
   "execution_count": 2,
   "id": "e1961598",
   "metadata": {},
   "outputs": [],
   "source": [
    "cdc_too_big = pd.read_csv('data/U.S._State_and_Territorial_Public_Mask_Mandates_From_April_10__2020_through_August_15__2021_by_County_by_Day.csv')\n",
    "cdc_too_big = cdc_too_big[cdc_too_big['County_Name'].str.contains('Mecklenburg') &\n",
    "                          cdc_too_big['State_Tribe_Territory'].str.contains('NC')]\n",
    "cdc_too_big.to_csv('data/Mecklenburg_Mask_Mandates.csv')"
   ]
  },
  {
   "cell_type": "markdown",
   "id": "0446c6ed",
   "metadata": {},
   "source": [
    "Now onto the code that can be reproduced!"
   ]
  },
  {
   "cell_type": "code",
   "execution_count": 3,
   "id": "c73b2718",
   "metadata": {
    "scrolled": true
   },
   "outputs": [
    {
     "data": {
      "text/html": [
       "<div>\n",
       "<style scoped>\n",
       "    .dataframe tbody tr th:only-of-type {\n",
       "        vertical-align: middle;\n",
       "    }\n",
       "\n",
       "    .dataframe tbody tr th {\n",
       "        vertical-align: top;\n",
       "    }\n",
       "\n",
       "    .dataframe thead th {\n",
       "        text-align: right;\n",
       "    }\n",
       "</style>\n",
       "<table border=\"1\" class=\"dataframe\">\n",
       "  <thead>\n",
       "    <tr style=\"text-align: right;\">\n",
       "      <th></th>\n",
       "      <th>Unnamed: 0</th>\n",
       "      <th>State_Tribe_Territory</th>\n",
       "      <th>County_Name</th>\n",
       "      <th>FIPS_State</th>\n",
       "      <th>FIPS_County</th>\n",
       "      <th>date</th>\n",
       "      <th>order_code</th>\n",
       "      <th>Face_Masks_Required_in_Public</th>\n",
       "      <th>Source_of_Action</th>\n",
       "      <th>URL</th>\n",
       "      <th>Citation</th>\n",
       "    </tr>\n",
       "  </thead>\n",
       "  <tbody>\n",
       "    <tr>\n",
       "      <th>0</th>\n",
       "      <td>518434</td>\n",
       "      <td>NC</td>\n",
       "      <td>Mecklenburg County</td>\n",
       "      <td>37</td>\n",
       "      <td>119</td>\n",
       "      <td>4/10/2020</td>\n",
       "      <td>2</td>\n",
       "      <td>NaN</td>\n",
       "      <td>NaN</td>\n",
       "      <td>NaN</td>\n",
       "      <td>NaN</td>\n",
       "    </tr>\n",
       "    <tr>\n",
       "      <th>1</th>\n",
       "      <td>518435</td>\n",
       "      <td>NC</td>\n",
       "      <td>Mecklenburg County</td>\n",
       "      <td>37</td>\n",
       "      <td>119</td>\n",
       "      <td>4/11/2020</td>\n",
       "      <td>2</td>\n",
       "      <td>NaN</td>\n",
       "      <td>NaN</td>\n",
       "      <td>NaN</td>\n",
       "      <td>NaN</td>\n",
       "    </tr>\n",
       "    <tr>\n",
       "      <th>2</th>\n",
       "      <td>518436</td>\n",
       "      <td>NC</td>\n",
       "      <td>Mecklenburg County</td>\n",
       "      <td>37</td>\n",
       "      <td>119</td>\n",
       "      <td>4/12/2020</td>\n",
       "      <td>2</td>\n",
       "      <td>NaN</td>\n",
       "      <td>NaN</td>\n",
       "      <td>NaN</td>\n",
       "      <td>NaN</td>\n",
       "    </tr>\n",
       "    <tr>\n",
       "      <th>3</th>\n",
       "      <td>518437</td>\n",
       "      <td>NC</td>\n",
       "      <td>Mecklenburg County</td>\n",
       "      <td>37</td>\n",
       "      <td>119</td>\n",
       "      <td>4/13/2020</td>\n",
       "      <td>2</td>\n",
       "      <td>NaN</td>\n",
       "      <td>NaN</td>\n",
       "      <td>NaN</td>\n",
       "      <td>NaN</td>\n",
       "    </tr>\n",
       "    <tr>\n",
       "      <th>4</th>\n",
       "      <td>518438</td>\n",
       "      <td>NC</td>\n",
       "      <td>Mecklenburg County</td>\n",
       "      <td>37</td>\n",
       "      <td>119</td>\n",
       "      <td>4/14/2020</td>\n",
       "      <td>2</td>\n",
       "      <td>NaN</td>\n",
       "      <td>NaN</td>\n",
       "      <td>NaN</td>\n",
       "      <td>NaN</td>\n",
       "    </tr>\n",
       "  </tbody>\n",
       "</table>\n",
       "</div>"
      ],
      "text/plain": [
       "   Unnamed: 0 State_Tribe_Territory         County_Name  FIPS_State  \\\n",
       "0      518434                    NC  Mecklenburg County          37   \n",
       "1      518435                    NC  Mecklenburg County          37   \n",
       "2      518436                    NC  Mecklenburg County          37   \n",
       "3      518437                    NC  Mecklenburg County          37   \n",
       "4      518438                    NC  Mecklenburg County          37   \n",
       "\n",
       "   FIPS_County       date  order_code Face_Masks_Required_in_Public  \\\n",
       "0          119  4/10/2020           2                           NaN   \n",
       "1          119  4/11/2020           2                           NaN   \n",
       "2          119  4/12/2020           2                           NaN   \n",
       "3          119  4/13/2020           2                           NaN   \n",
       "4          119  4/14/2020           2                           NaN   \n",
       "\n",
       "  Source_of_Action  URL Citation  \n",
       "0              NaN  NaN      NaN  \n",
       "1              NaN  NaN      NaN  \n",
       "2              NaN  NaN      NaN  \n",
       "3              NaN  NaN      NaN  \n",
       "4              NaN  NaN      NaN  "
      ]
     },
     "execution_count": 3,
     "metadata": {},
     "output_type": "execute_result"
    }
   ],
   "source": [
    "# Load the dataset\n",
    "meck_mand = pd.read_csv('data/Mecklenburg_Mask_Mandates.csv')\n",
    "# Filter the data for Mecklenburg\n",
    "meck_mand.head()"
   ]
  },
  {
   "cell_type": "markdown",
   "id": "aa0ebe17",
   "metadata": {},
   "source": [
    "The Face_Masks_Required_in_Public parameter is easier to work with as an integer along with a column indicating what the previous mask policy status was."
   ]
  },
  {
   "cell_type": "code",
   "execution_count": 4,
   "id": "6c2385d7",
   "metadata": {},
   "outputs": [
    {
     "data": {
      "text/html": [
       "<div>\n",
       "<style scoped>\n",
       "    .dataframe tbody tr th:only-of-type {\n",
       "        vertical-align: middle;\n",
       "    }\n",
       "\n",
       "    .dataframe tbody tr th {\n",
       "        vertical-align: top;\n",
       "    }\n",
       "\n",
       "    .dataframe thead th {\n",
       "        text-align: right;\n",
       "    }\n",
       "</style>\n",
       "<table border=\"1\" class=\"dataframe\">\n",
       "  <thead>\n",
       "    <tr style=\"text-align: right;\">\n",
       "      <th></th>\n",
       "      <th>Unnamed: 0</th>\n",
       "      <th>State_Tribe_Territory</th>\n",
       "      <th>County_Name</th>\n",
       "      <th>FIPS_State</th>\n",
       "      <th>FIPS_County</th>\n",
       "      <th>date</th>\n",
       "      <th>order_code</th>\n",
       "      <th>Face_Masks_Required_in_Public</th>\n",
       "      <th>Source_of_Action</th>\n",
       "      <th>URL</th>\n",
       "      <th>Citation</th>\n",
       "      <th>prev_req</th>\n",
       "      <th>mask_needed_change</th>\n",
       "    </tr>\n",
       "  </thead>\n",
       "  <tbody>\n",
       "    <tr>\n",
       "      <th>0</th>\n",
       "      <td>518434</td>\n",
       "      <td>NC</td>\n",
       "      <td>Mecklenburg County</td>\n",
       "      <td>37</td>\n",
       "      <td>119</td>\n",
       "      <td>2020-04-10</td>\n",
       "      <td>2</td>\n",
       "      <td>-1</td>\n",
       "      <td>NaN</td>\n",
       "      <td>NaN</td>\n",
       "      <td>NaN</td>\n",
       "      <td>-1</td>\n",
       "      <td>0</td>\n",
       "    </tr>\n",
       "    <tr>\n",
       "      <th>1</th>\n",
       "      <td>518435</td>\n",
       "      <td>NC</td>\n",
       "      <td>Mecklenburg County</td>\n",
       "      <td>37</td>\n",
       "      <td>119</td>\n",
       "      <td>2020-04-11</td>\n",
       "      <td>2</td>\n",
       "      <td>-1</td>\n",
       "      <td>NaN</td>\n",
       "      <td>NaN</td>\n",
       "      <td>NaN</td>\n",
       "      <td>-1</td>\n",
       "      <td>0</td>\n",
       "    </tr>\n",
       "    <tr>\n",
       "      <th>2</th>\n",
       "      <td>518436</td>\n",
       "      <td>NC</td>\n",
       "      <td>Mecklenburg County</td>\n",
       "      <td>37</td>\n",
       "      <td>119</td>\n",
       "      <td>2020-04-12</td>\n",
       "      <td>2</td>\n",
       "      <td>-1</td>\n",
       "      <td>NaN</td>\n",
       "      <td>NaN</td>\n",
       "      <td>NaN</td>\n",
       "      <td>-1</td>\n",
       "      <td>0</td>\n",
       "    </tr>\n",
       "    <tr>\n",
       "      <th>3</th>\n",
       "      <td>518437</td>\n",
       "      <td>NC</td>\n",
       "      <td>Mecklenburg County</td>\n",
       "      <td>37</td>\n",
       "      <td>119</td>\n",
       "      <td>2020-04-13</td>\n",
       "      <td>2</td>\n",
       "      <td>-1</td>\n",
       "      <td>NaN</td>\n",
       "      <td>NaN</td>\n",
       "      <td>NaN</td>\n",
       "      <td>-1</td>\n",
       "      <td>0</td>\n",
       "    </tr>\n",
       "    <tr>\n",
       "      <th>4</th>\n",
       "      <td>518438</td>\n",
       "      <td>NC</td>\n",
       "      <td>Mecklenburg County</td>\n",
       "      <td>37</td>\n",
       "      <td>119</td>\n",
       "      <td>2020-04-14</td>\n",
       "      <td>2</td>\n",
       "      <td>-1</td>\n",
       "      <td>NaN</td>\n",
       "      <td>NaN</td>\n",
       "      <td>NaN</td>\n",
       "      <td>-1</td>\n",
       "      <td>0</td>\n",
       "    </tr>\n",
       "  </tbody>\n",
       "</table>\n",
       "</div>"
      ],
      "text/plain": [
       "   Unnamed: 0 State_Tribe_Territory         County_Name  FIPS_State  \\\n",
       "0      518434                    NC  Mecklenburg County          37   \n",
       "1      518435                    NC  Mecklenburg County          37   \n",
       "2      518436                    NC  Mecklenburg County          37   \n",
       "3      518437                    NC  Mecklenburg County          37   \n",
       "4      518438                    NC  Mecklenburg County          37   \n",
       "\n",
       "   FIPS_County       date  order_code  Face_Masks_Required_in_Public  \\\n",
       "0          119 2020-04-10           2                             -1   \n",
       "1          119 2020-04-11           2                             -1   \n",
       "2          119 2020-04-12           2                             -1   \n",
       "3          119 2020-04-13           2                             -1   \n",
       "4          119 2020-04-14           2                             -1   \n",
       "\n",
       "  Source_of_Action  URL Citation  prev_req  mask_needed_change  \n",
       "0              NaN  NaN      NaN        -1                   0  \n",
       "1              NaN  NaN      NaN        -1                   0  \n",
       "2              NaN  NaN      NaN        -1                   0  \n",
       "3              NaN  NaN      NaN        -1                   0  \n",
       "4              NaN  NaN      NaN        -1                   0  "
      ]
     },
     "execution_count": 4,
     "metadata": {},
     "output_type": "execute_result"
    }
   ],
   "source": [
    "# Transform mask mandate data to make it easier to work with\n",
    "meck_mand['prev_req'] = meck_mand['Face_Masks_Required_in_Public'].shift()\n",
    "meck_mand['Face_Masks_Required_in_Public'] = np.where(meck_mand['Face_Masks_Required_in_Public'] == 'Yes',\n",
    "                                                      1, -1)\n",
    "meck_mand['prev_req'] = np.where(meck_mand['prev_req'] == 'Yes',\n",
    "                                 1, -1)\n",
    "meck_mand['mask_needed_change'] = np.where(meck_mand['Face_Masks_Required_in_Public'] == meck_mand['prev_req'],\n",
    "                                           0, meck_mand['Face_Masks_Required_in_Public'])\n",
    "meck_mand['date'] = pd.to_datetime(meck_mand['date'])\n",
    "meck_mand.head()"
   ]
  },
  {
   "cell_type": "markdown",
   "id": "00007b6b",
   "metadata": {},
   "source": [
    "## Pulling building permit issuance data.\n",
    "The next step is determining the date range of data that should be pulled from the Mecklenburg County Open Data tool. Looking at my prior work on Mecklenburg COVID-19 data and [how masking policies impacted new cases](https://github.com/rafrisci/data-512-project) or the below figure, Mecklenburg mask mandates were all consecutive. This allows for three distinct periods of Mecklenburg policy in regards to masking: pre-COVID, COVID, and COVID ignored."
   ]
  },
  {
   "cell_type": "code",
   "execution_count": 5,
   "id": "9ad586bb",
   "metadata": {},
   "outputs": [
    {
     "data": {
      "image/png": "[encoded data removed]",
      "text/plain": [
       "<Figure size 1008x288 with 1 Axes>"
      ]
     },
     "metadata": {
      "needs_background": "light"
     },
     "output_type": "display_data"
    }
   ],
   "source": [
    "meck_plt = meck_mand.set_index('date')\n",
    "plt.figure(figsize=(14,4))\n",
    "plt.plot(meck_plt['Face_Masks_Required_in_Public'])\n",
    "plt.yticks([-1, 1], ['No', 'Yes'], fontsize=12)\n",
    "plt.title('Mask Mandate in Effect in Mecklenburg, NC?')\n",
    "plt.xlabel('Date')\n",
    "plt.ylabel('Is there a mask mandate?')\n",
    "plt.savefig('visualizations/mask_mandates.jpeg')"
   ]
  },
  {
   "cell_type": "markdown",
   "id": "81b5ea7c",
   "metadata": {},
   "source": [
    "The methodology that will be used to determine the date range for data collection is the following:\n",
    "1. find the number of days mask mandates were in effect\n",
    "2. get the start date by subtracting the first day of mask mandates by the number of days the mask mandate was in effect\n",
    "3. get the end date by adding the last day of mask mandates by the number of days the mask mandate was in effect\n",
    "\n",
    "This way each category will have the same number of days in their sample and the analysis will avoid imbalanced classes."
   ]
  },
  {
   "cell_type": "code",
   "execution_count": 6,
   "id": "6ec603e3",
   "metadata": {},
   "outputs": [
    {
     "name": "stdout",
     "output_type": "stream",
     "text": [
      "The number of days that mask mandates were in effect in Mecklenburg is 322\n",
      "The mask mandate started on 2020-06-26\n",
      "The mask mandate ended on 2021-05-14\n"
     ]
    }
   ],
   "source": [
    "print(\"The number of days that mask mandates were in effect in Mecklenburg is\",\n",
    "      len(meck_mand[meck_mand['Face_Masks_Required_in_Public']==1]))\n",
    "print(\"The mask mandate started on\",\n",
    "      meck_mand['date'].loc[(meck_mand['Face_Masks_Required_in_Public']==1) & (meck_mand['prev_req']==-1)].to_string(index=False))\n",
    "print(\"The mask mandate ended on\",\n",
    "      meck_mand['date'].loc[(meck_mand['Face_Masks_Required_in_Public']==-1) & (meck_mand['prev_req']==1)].to_string(index=False))"
   ]
  },
  {
   "cell_type": "markdown",
   "id": "86509c86",
   "metadata": {},
   "source": [
    "With the start and end date of mask mandates, we can now calculate the date range needed for the data pull."
   ]
  },
  {
   "cell_type": "code",
   "execution_count": 7,
   "id": "80ce5c75",
   "metadata": {},
   "outputs": [
    {
     "name": "stdout",
     "output_type": "stream",
     "text": [
      "The start date of the data pull is: 2019-08-09 00:00:00\n",
      "The end date of the data pull is: 2022-04-01 00:00:00\n"
     ]
    }
   ],
   "source": [
    "print('The start date of the data pull is:',\n",
    "      datetime.datetime.strptime('2020-06-26', '%Y-%m-%d') - datetime.timedelta(days=322))\n",
    "print('The end date of the data pull is:',\n",
    "      datetime.datetime.strptime('2021-05-14', '%Y-%m-%d') + datetime.timedelta(days=322))"
   ]
  },
  {
   "cell_type": "markdown",
   "id": "69a78347",
   "metadata": {},
   "source": [
    "The raw download of the building permit data was a .xlsx, but the version of the raw data saved in this repository is permit_issuance_raw.csv."
   ]
  }
 ],
 "metadata": {
  "kernelspec": {
   "display_name": "Python 3 (ipykernel)",
   "language": "python",
   "name": "python3"
  },
  "language_info": {
   "codemirror_mode": {
    "name": "ipython",
    "version": 3
   },
   "file_extension": ".py",
   "mimetype": "text/x-python",
   "name": "python",
   "nbconvert_exporter": "python",
   "pygments_lexer": "ipython3",
   "version": "3.7.1"
  }
 },
 "nbformat": 4,
 "nbformat_minor": 5
}
